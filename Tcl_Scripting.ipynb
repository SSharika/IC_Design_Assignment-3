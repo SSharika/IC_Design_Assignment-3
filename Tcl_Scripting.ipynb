{
 "cells": [
  {
   "cell_type": "markdown",
   "id": "7316eb72",
   "metadata": {},
   "source": [
    "Importing Libraries needed to run script"
   ]
  },
  {
   "cell_type": "code",
   "execution_count": 1,
   "metadata": {},
   "outputs": [],
   "source": [
    "import os\n",
    "import numpy as np\n",
    "import pandas as pd1\n",
    "import shutil\n",
    "import csv"
   ]
  },
  {
   "cell_type": "code",
   "execution_count": 2,
   "id": "2b6a486e-5610-47f2-8c8f-f0b40e16adc4",
   "metadata": {
    "tags": []
   },
   "outputs": [
    {
     "data": {
      "text/plain": [
       "0"
      ]
     },
     "execution_count": 2,
     "metadata": {},
     "output_type": "execute_result"
    }
   ],
   "source": [
    "os.system(\"vivado -mode batch -source tcl_add.tcl  -tclargs {}\".format(\"file\"))"
   ]
  },
  {
   "cell_type": "code",
   "execution_count": 3,
   "id": "adb1a31e",
   "metadata": {},
   "outputs": [
    {
     "data": {
      "text/plain": [
       "32512"
      ]
     },
     "execution_count": 3,
     "metadata": {},
     "output_type": "execute_result"
    }
   ],
   "source": [
    "os.system(\"open_project {}/Automation/Project_2.xpr\".format(os.getcwd()))"
   ]
  },
  {
   "cell_type": "code",
   "execution_count": 4,
   "id": "905a9fbc",
   "metadata": {},
   "outputs": [
    {
     "data": {
      "text/plain": [
       "0"
      ]
     },
     "execution_count": 4,
     "metadata": {},
     "output_type": "execute_result"
    }
   ],
   "source": [
    "os.system(\"pwd\")"
   ]
  },
  {
   "cell_type": "code",
   "execution_count": null,
   "id": "47d8e94a-95b4-4a18-9834-bfd4e70743ff",
   "metadata": {},
   "outputs": [],
   "source": [
    "os.system(\"vivado -mode batch -source tcl_run.tcl\")"
   ]
  },
  {
   "cell_type": "markdown",
   "id": "0c9fcf5e",
   "metadata": {},
   "source": [
    "Generating Result.csv file \n",
    "The approach is to search for certain text in the generated reports and extract out the numerical values needed."
   ]
  },
  {
   "cell_type": "code",
   "execution_count": 5,
   "id": "3bfbc79b-cde0-4eb1-879f-aafac4fd8995",
   "metadata": {},
   "outputs": [
    {
     "name": "stdout",
     "output_type": "stream",
     "text": [
      "5.624\n",
      "3.387\n",
      "2.237\n"
     ]
    }
   ],
   "source": [
    "DatapathDelay = []\n",
    "logic_delay=[]\n",
    "routing_delay=[]\n",
    "\n",
    "file_name=[]\n",
    "\n",
    "DynamicPower = []\n",
    "static_power=[]\n",
    "signal_power=[]\n",
    "logic_power=[]\n",
    "i_o_power=[]\n",
    "total_power=[]\n",
    "\n",
    "\n",
    "f7_muxes=[]\n",
    "lut_as_memory=[]\n",
    "lut_as_logic=[]\n",
    "slice_lut=[]\n",
    "lut1=[]\n",
    "lut2=[]\n",
    "lut3=[]\n",
    "lut4=[]\n",
    "lut5=[]\n",
    "lut6=[]\n",
    "lut7=[]\n",
    "\n",
    "\n",
    "with open(\"/home/Sharika/icdesign/code/adder/timing.txt\") as f:\n",
    "    lines = f.read()\n",
    "    timing = lines.split(\"\\n\")\n",
    "        \n",
    "    timing_info = [line for line in timing if \"Data Path Delay\" in line]\n",
    "    dpd = float(timing_info[0].split()[3][:-2])\n",
    "    DatapathDelay.append(dpd)\n",
    "    print(dpd)\n",
    "\n",
    "    timing_info = [line for line in timing if \"Data Path Delay\" in line]\n",
    "    dpd = float(timing_info[0].split()[5][:-2])\n",
    "    logic_delay.append(dpd)\n",
    "    print(dpd)\n",
    "\n",
    "    timing_info = [line for line in timing if \"Data Path Delay\" in line]\n",
    "    dpd = float(timing_info[0].split()[8][:-2])\n",
    "    routing_delay.append(dpd)\n",
    "    print(dpd)"
   ]
  },
  {
   "cell_type": "code",
   "execution_count": 6,
   "id": "10e911d7-5cf3-47d1-95b4-a3848c307702",
   "metadata": {},
   "outputs": [
    {
     "name": "stdout",
     "output_type": "stream",
     "text": [
      "Data path delays extracted and saved to datapath_delays.csv\n"
     ]
    }
   ],
   "source": [
    "import os\n",
    "import csv\n",
    "\n",
    "# Function to extract data path delay from timing.txt file\n",
    "def extract_datapath_delay(file_path):\n",
    "    with open(file_path, 'r') as f:\n",
    "        lines = f.readlines()\n",
    "        for line in lines:\n",
    "            if \"Data Path Delay\" in line:\n",
    "                return float(line.split()[3][:-2])\n",
    "\n",
    "# Directory path where the code folder is located\n",
    "code_folder_path = \"./code\"\n",
    "\n",
    "# List to hold extracted data path delays\n",
    "datapath_delays = []\n",
    "\n",
    "# Iterate over directories inside the code folder\n",
    "for dir_name in os.listdir(code_folder_path):\n",
    "    dir_path = os.path.join(code_folder_path, dir_name)\n",
    "    if os.path.isdir(dir_path):\n",
    "        timing_file_path = os.path.join(dir_path, \"timing.txt\")\n",
    "        if os.path.exists(timing_file_path):\n",
    "            # Extract data path delay from timing.txt\n",
    "            datapath_delay = extract_datapath_delay(timing_file_path)\n",
    "            datapath_delays.append((dir_name, datapath_delay))\n",
    "\n",
    "# Write the extracted data path delays to a CSV file\n",
    "csv_file_path = \"datapath_delays.csv\"\n",
    "with open(csv_file_path, mode='w', newline='') as file:\n",
    "    writer = csv.writer(file)\n",
    "    writer.writerow(['Module', 'Data Path Delay'])\n",
    "    for module, delay in datapath_delays:\n",
    "        writer.writerow([module, delay])\n",
    "\n",
    "print(\"Data path delays extracted and saved to\", csv_file_path)\n"
   ]
  },
  {
   "cell_type": "code",
   "execution_count": 9,
   "metadata": {},
   "outputs": [
    {
     "name": "stdout",
     "output_type": "stream",
     "text": [
      "Data appended to datapath_delays.csv\n"
     ]
    }
   ],
   "source": [
    "# Read existing CSV file\n",
    "csv_file_path = \"datapath_delays.csv\"\n",
    "data = []\n",
    "with open(csv_file_path, mode='r') as file:\n",
    "    reader = csv.reader(file)\n",
    "    for row in reader:\n",
    "        data.append(row)\n",
    "\n",
    "# Extract data from power.txt\n",
    "signals = None\n",
    "total_power = None\n",
    "static_power = None\n",
    "\n",
    "with open(\"power.txt\", 'r') as f:\n",
    "    lines = f.readlines()\n",
    "    for line in lines:\n",
    "        if \"Signals\" in line:\n",
    "            signals = float(line.split(':')[1].strip())\n",
    "        # elif \"Total\" in line:\n",
    "        #     total_power = float(line.split(':')[1].strip())\n",
    "        # elif \"Static Power\" in line:\n",
    "        #     static_power = float(line.split(':')[1].strip())\n",
    "\n",
    "# Append extracted data to the existing data\n",
    "new_row = [signals, total_power, static_power]\n",
    "data.append(new_row)\n",
    "\n",
    "# Write the updated data to the CSV file\n",
    "with open(csv_file_path, mode='w', newline='') as file:\n",
    "    writer = csv.writer(file)\n",
    "    writer.writerows(data)\n",
    "\n",
    "print(\"Data appended to\", csv_file_path)"
   ]
  },
  {
   "cell_type": "code",
   "execution_count": null,
   "id": "63cf471c-9db6-4f3b-9a6b-9bdc1434b549",
   "metadata": {},
   "outputs": [],
   "source": []
  },
  {
   "cell_type": "code",
   "execution_count": null,
   "id": "9d2a42af-d383-4a7b-9719-a3476e42cb88",
   "metadata": {},
   "outputs": [],
   "source": []
  }
 ],
 "metadata": {
  "kernelspec": {
   "display_name": "Python 3",
   "language": "python",
   "name": "python3"
  },
  "language_info": {
   "codemirror_mode": {
    "name": "ipython",
    "version": 3
   },
   "file_extension": ".py",
   "mimetype": "text/x-python",
   "name": "python",
   "nbconvert_exporter": "python",
   "pygments_lexer": "ipython3",
   "version": "3.6.8"
  }
 },
 "nbformat": 4,
 "nbformat_minor": 5
}
